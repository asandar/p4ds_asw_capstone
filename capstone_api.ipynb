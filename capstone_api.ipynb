{
 "cells": [
  {
   "cell_type": "code",
   "execution_count": 7,
   "metadata": {},
   "outputs": [],
   "source": [
    "import sqlite3\n",
    "import pandas as pd\n",
    "\n",
    "conn = sqlite3.connect(\"data_input/chinook.db\")"
   ]
  },
  {
   "cell_type": "code",
   "execution_count": 8,
   "metadata": {},
   "outputs": [
    {
     "output_type": "execute_result",
     "data": {
      "text/plain": "   EmployeeId  LastName FirstName                Title  ReportsTo  \\\n0           1     Adams    Andrew      General Manager        NaN   \n1           2   Edwards     Nancy        Sales Manager        1.0   \n2           3   Peacock      Jane  Sales Support Agent        2.0   \n3           4      Park  Margaret  Sales Support Agent        2.0   \n4           5   Johnson     Steve  Sales Support Agent        2.0   \n5           6  Mitchell   Michael           IT Manager        1.0   \n6           7      King    Robert             IT Staff        6.0   \n7           8  Callahan     Laura             IT Staff        6.0   \n\n             BirthDate             HireDate                      Address  \\\n0  1962-02-18 00:00:00  2002-08-14 00:00:00          11120 Jasper Ave NW   \n1  1958-12-08 00:00:00  2002-05-01 00:00:00                 825 8 Ave SW   \n2  1973-08-29 00:00:00  2002-04-01 00:00:00                1111 6 Ave SW   \n3  1947-09-19 00:00:00  2003-05-03 00:00:00             683 10 Street SW   \n4  1965-03-03 00:00:00  2003-10-17 00:00:00                 7727B 41 Ave   \n5  1973-07-01 00:00:00  2003-10-17 00:00:00         5827 Bowness Road NW   \n6  1970-05-29 00:00:00  2004-01-02 00:00:00  590 Columbia Boulevard West   \n7  1968-01-09 00:00:00  2004-03-04 00:00:00                  923 7 ST NW   \n\n         City State Country PostalCode              Phone                Fax  \\\n0    Edmonton    AB  Canada    T5K 2N1  +1 (780) 428-9482  +1 (780) 428-3457   \n1     Calgary    AB  Canada    T2P 2T3  +1 (403) 262-3443  +1 (403) 262-3322   \n2     Calgary    AB  Canada    T2P 5M5  +1 (403) 262-3443  +1 (403) 262-6712   \n3     Calgary    AB  Canada    T2P 5G3  +1 (403) 263-4423  +1 (403) 263-4289   \n4     Calgary    AB  Canada    T3B 1Y7   1 (780) 836-9987   1 (780) 836-9543   \n5     Calgary    AB  Canada    T3B 0C5  +1 (403) 246-9887  +1 (403) 246-9899   \n6  Lethbridge    AB  Canada    T1K 5N8  +1 (403) 456-9986  +1 (403) 456-8485   \n7  Lethbridge    AB  Canada    T1H 1Y8  +1 (403) 467-3351  +1 (403) 467-8772   \n\n                      Email  \n0    andrew@chinookcorp.com  \n1     nancy@chinookcorp.com  \n2      jane@chinookcorp.com  \n3  margaret@chinookcorp.com  \n4     steve@chinookcorp.com  \n5   michael@chinookcorp.com  \n6    robert@chinookcorp.com  \n7     laura@chinookcorp.com  ",
      "text/html": "<div>\n<style scoped>\n    .dataframe tbody tr th:only-of-type {\n        vertical-align: middle;\n    }\n\n    .dataframe tbody tr th {\n        vertical-align: top;\n    }\n\n    .dataframe thead th {\n        text-align: right;\n    }\n</style>\n<table border=\"1\" class=\"dataframe\">\n  <thead>\n    <tr style=\"text-align: right;\">\n      <th></th>\n      <th>EmployeeId</th>\n      <th>LastName</th>\n      <th>FirstName</th>\n      <th>Title</th>\n      <th>ReportsTo</th>\n      <th>BirthDate</th>\n      <th>HireDate</th>\n      <th>Address</th>\n      <th>City</th>\n      <th>State</th>\n      <th>Country</th>\n      <th>PostalCode</th>\n      <th>Phone</th>\n      <th>Fax</th>\n      <th>Email</th>\n    </tr>\n  </thead>\n  <tbody>\n    <tr>\n      <th>0</th>\n      <td>1</td>\n      <td>Adams</td>\n      <td>Andrew</td>\n      <td>General Manager</td>\n      <td>NaN</td>\n      <td>1962-02-18 00:00:00</td>\n      <td>2002-08-14 00:00:00</td>\n      <td>11120 Jasper Ave NW</td>\n      <td>Edmonton</td>\n      <td>AB</td>\n      <td>Canada</td>\n      <td>T5K 2N1</td>\n      <td>+1 (780) 428-9482</td>\n      <td>+1 (780) 428-3457</td>\n      <td>andrew@chinookcorp.com</td>\n    </tr>\n    <tr>\n      <th>1</th>\n      <td>2</td>\n      <td>Edwards</td>\n      <td>Nancy</td>\n      <td>Sales Manager</td>\n      <td>1.0</td>\n      <td>1958-12-08 00:00:00</td>\n      <td>2002-05-01 00:00:00</td>\n      <td>825 8 Ave SW</td>\n      <td>Calgary</td>\n      <td>AB</td>\n      <td>Canada</td>\n      <td>T2P 2T3</td>\n      <td>+1 (403) 262-3443</td>\n      <td>+1 (403) 262-3322</td>\n      <td>nancy@chinookcorp.com</td>\n    </tr>\n    <tr>\n      <th>2</th>\n      <td>3</td>\n      <td>Peacock</td>\n      <td>Jane</td>\n      <td>Sales Support Agent</td>\n      <td>2.0</td>\n      <td>1973-08-29 00:00:00</td>\n      <td>2002-04-01 00:00:00</td>\n      <td>1111 6 Ave SW</td>\n      <td>Calgary</td>\n      <td>AB</td>\n      <td>Canada</td>\n      <td>T2P 5M5</td>\n      <td>+1 (403) 262-3443</td>\n      <td>+1 (403) 262-6712</td>\n      <td>jane@chinookcorp.com</td>\n    </tr>\n    <tr>\n      <th>3</th>\n      <td>4</td>\n      <td>Park</td>\n      <td>Margaret</td>\n      <td>Sales Support Agent</td>\n      <td>2.0</td>\n      <td>1947-09-19 00:00:00</td>\n      <td>2003-05-03 00:00:00</td>\n      <td>683 10 Street SW</td>\n      <td>Calgary</td>\n      <td>AB</td>\n      <td>Canada</td>\n      <td>T2P 5G3</td>\n      <td>+1 (403) 263-4423</td>\n      <td>+1 (403) 263-4289</td>\n      <td>margaret@chinookcorp.com</td>\n    </tr>\n    <tr>\n      <th>4</th>\n      <td>5</td>\n      <td>Johnson</td>\n      <td>Steve</td>\n      <td>Sales Support Agent</td>\n      <td>2.0</td>\n      <td>1965-03-03 00:00:00</td>\n      <td>2003-10-17 00:00:00</td>\n      <td>7727B 41 Ave</td>\n      <td>Calgary</td>\n      <td>AB</td>\n      <td>Canada</td>\n      <td>T3B 1Y7</td>\n      <td>1 (780) 836-9987</td>\n      <td>1 (780) 836-9543</td>\n      <td>steve@chinookcorp.com</td>\n    </tr>\n    <tr>\n      <th>5</th>\n      <td>6</td>\n      <td>Mitchell</td>\n      <td>Michael</td>\n      <td>IT Manager</td>\n      <td>1.0</td>\n      <td>1973-07-01 00:00:00</td>\n      <td>2003-10-17 00:00:00</td>\n      <td>5827 Bowness Road NW</td>\n      <td>Calgary</td>\n      <td>AB</td>\n      <td>Canada</td>\n      <td>T3B 0C5</td>\n      <td>+1 (403) 246-9887</td>\n      <td>+1 (403) 246-9899</td>\n      <td>michael@chinookcorp.com</td>\n    </tr>\n    <tr>\n      <th>6</th>\n      <td>7</td>\n      <td>King</td>\n      <td>Robert</td>\n      <td>IT Staff</td>\n      <td>6.0</td>\n      <td>1970-05-29 00:00:00</td>\n      <td>2004-01-02 00:00:00</td>\n      <td>590 Columbia Boulevard West</td>\n      <td>Lethbridge</td>\n      <td>AB</td>\n      <td>Canada</td>\n      <td>T1K 5N8</td>\n      <td>+1 (403) 456-9986</td>\n      <td>+1 (403) 456-8485</td>\n      <td>robert@chinookcorp.com</td>\n    </tr>\n    <tr>\n      <th>7</th>\n      <td>8</td>\n      <td>Callahan</td>\n      <td>Laura</td>\n      <td>IT Staff</td>\n      <td>6.0</td>\n      <td>1968-01-09 00:00:00</td>\n      <td>2004-03-04 00:00:00</td>\n      <td>923 7 ST NW</td>\n      <td>Lethbridge</td>\n      <td>AB</td>\n      <td>Canada</td>\n      <td>T1H 1Y8</td>\n      <td>+1 (403) 467-3351</td>\n      <td>+1 (403) 467-8772</td>\n      <td>laura@chinookcorp.com</td>\n    </tr>\n  </tbody>\n</table>\n</div>"
     },
     "metadata": {},
     "execution_count": 8
    }
   ],
   "source": [
    "emp = pd.read_sql_query(\"select * from employees\", conn)\n",
    "emp"
   ]
  },
  {
   "cell_type": "code",
   "execution_count": 17,
   "metadata": {},
   "outputs": [
    {
     "output_type": "execute_result",
     "data": {
      "text/plain": "   TrackId                  Name  AlbumId  MediaTypeId  GenreId  \\\n0        5  Princess of the Dawn        3            2        1   \n\n                     Composer  Milliseconds    Bytes  UnitPrice  \n0  Deaffy & R.A. Smith-Diesel        375418  6290521       0.99  ",
      "text/html": "<div>\n<style scoped>\n    .dataframe tbody tr th:only-of-type {\n        vertical-align: middle;\n    }\n\n    .dataframe tbody tr th {\n        vertical-align: top;\n    }\n\n    .dataframe thead th {\n        text-align: right;\n    }\n</style>\n<table border=\"1\" class=\"dataframe\">\n  <thead>\n    <tr style=\"text-align: right;\">\n      <th></th>\n      <th>TrackId</th>\n      <th>Name</th>\n      <th>AlbumId</th>\n      <th>MediaTypeId</th>\n      <th>GenreId</th>\n      <th>Composer</th>\n      <th>Milliseconds</th>\n      <th>Bytes</th>\n      <th>UnitPrice</th>\n    </tr>\n  </thead>\n  <tbody>\n    <tr>\n      <th>0</th>\n      <td>5</td>\n      <td>Princess of the Dawn</td>\n      <td>3</td>\n      <td>2</td>\n      <td>1</td>\n      <td>Deaffy &amp; R.A. Smith-Diesel</td>\n      <td>375418</td>\n      <td>6290521</td>\n      <td>0.99</td>\n    </tr>\n  </tbody>\n</table>\n</div>"
     },
     "metadata": {},
     "execution_count": 17
    }
   ],
   "source": [
    "track = pd.read_sql_query(\"select * from tracks where TrackId = 5\", conn)\n",
    "track"
   ]
  },
  {
   "cell_type": "code",
   "execution_count": 20,
   "metadata": {},
   "outputs": [
    {
     "output_type": "execute_result",
     "data": {
      "text/plain": "                TrackNm                    Composer  UnitPrice GenreNm  \\\n0  Princess of the Dawn  Deaffy & R.A. Smith-Diesel       0.99    Rock   \n\n   GenreId  TrackId  \n0        1        5  ",
      "text/html": "<div>\n<style scoped>\n    .dataframe tbody tr th:only-of-type {\n        vertical-align: middle;\n    }\n\n    .dataframe tbody tr th {\n        vertical-align: top;\n    }\n\n    .dataframe thead th {\n        text-align: right;\n    }\n</style>\n<table border=\"1\" class=\"dataframe\">\n  <thead>\n    <tr style=\"text-align: right;\">\n      <th></th>\n      <th>TrackNm</th>\n      <th>Composer</th>\n      <th>UnitPrice</th>\n      <th>GenreNm</th>\n      <th>GenreId</th>\n      <th>TrackId</th>\n    </tr>\n  </thead>\n  <tbody>\n    <tr>\n      <th>0</th>\n      <td>Princess of the Dawn</td>\n      <td>Deaffy &amp; R.A. Smith-Diesel</td>\n      <td>0.99</td>\n      <td>Rock</td>\n      <td>1</td>\n      <td>5</td>\n    </tr>\n  </tbody>\n</table>\n</div>"
     },
     "metadata": {},
     "execution_count": 20
    }
   ],
   "source": [
    "genre = pd.read_sql_query(\n",
    "    '''\n",
    "        SELECT \n",
    "            trk.Name as TrackNm, \n",
    "            trk.Composer, \n",
    "            trk.UnitPrice, \n",
    "            genr.Name as GenreNm, \n",
    "            genr.GenreId, \n",
    "            trk.TrackId \n",
    "        FROM tracks AS trk,     \n",
    "             genres AS genr \n",
    "        WHERE trk.GenreId = genr.GenreId \n",
    "              AND trk.TrackId = 5 \n",
    "              AND genr.GenreId = 1\n",
    "     ''', conn)\n",
    "genre.head()"
   ]
  },
  {
   "cell_type": "code",
   "execution_count": 22,
   "metadata": {},
   "outputs": [
    {
     "output_type": "execute_result",
     "data": {
      "text/plain": "   MediaTypeId                         Name\n0            1              MPEG audio file\n1            2     Protected AAC audio file\n2            3  Protected MPEG-4 video file\n3            4     Purchased AAC audio file\n4            5               AAC audio file",
      "text/html": "<div>\n<style scoped>\n    .dataframe tbody tr th:only-of-type {\n        vertical-align: middle;\n    }\n\n    .dataframe tbody tr th {\n        vertical-align: top;\n    }\n\n    .dataframe thead th {\n        text-align: right;\n    }\n</style>\n<table border=\"1\" class=\"dataframe\">\n  <thead>\n    <tr style=\"text-align: right;\">\n      <th></th>\n      <th>MediaTypeId</th>\n      <th>Name</th>\n    </tr>\n  </thead>\n  <tbody>\n    <tr>\n      <th>0</th>\n      <td>1</td>\n      <td>MPEG audio file</td>\n    </tr>\n    <tr>\n      <th>1</th>\n      <td>2</td>\n      <td>Protected AAC audio file</td>\n    </tr>\n    <tr>\n      <th>2</th>\n      <td>3</td>\n      <td>Protected MPEG-4 video file</td>\n    </tr>\n    <tr>\n      <th>3</th>\n      <td>4</td>\n      <td>Purchased AAC audio file</td>\n    </tr>\n    <tr>\n      <th>4</th>\n      <td>5</td>\n      <td>AAC audio file</td>\n    </tr>\n  </tbody>\n</table>\n</div>"
     },
     "metadata": {},
     "execution_count": 22
    }
   ],
   "source": [
    "pd.read_sql_query(\"SELECT * FROM media_types\", conn)"
   ]
  },
  {
   "cell_type": "code",
   "execution_count": 22,
   "metadata": {},
   "outputs": [
    {
     "output_type": "execute_result",
     "data": {
      "text/plain": "           Country               Genre InvoiceDate    Total    avg_inv  \\\n0           Brazil                 Pop  2012-12-07    83.16  13.860000   \n1              USA       Rock And Roll  2012-11-06    83.16  13.860000   \n2           Canada          Bossa Nova  2013-01-30    86.13   5.742000   \n3              USA      Easy Listening  2011-12-01   138.60  13.860000   \n4   Czech Republic   Electronica/Dance  2009-07-11   149.62  12.468333   \n5              USA         Heavy Metal  2010-09-23   161.37  13.447500   \n6         Portugal               World  2012-02-01   166.32  13.860000   \n7           Canada         Hip Hop/Rap  2012-05-04   166.41   9.788824   \n8           Brazil          Soundtrack  2012-12-07   242.55  12.127500   \n9            India            R&B/Soul  2009-07-08   272.25   9.387931   \n10             USA              Reggae  2011-08-30   332.64  11.088000   \n11         Germany               Blues  2011-08-21   429.66   7.043607   \n12          Canada                Jazz  2009-01-06   746.46   9.330750   \n13             USA  Alternative & Punk  2009-01-11  1961.66   8.039590   \n14          Canada               Metal  2009-01-06  2093.13   7.928523   \n15          Sweden               Latin  2012-12-02  3456.69   8.978416   \n16           Italy                Rock  2010-04-13  7268.46   9.402924   \n\n        Month  \n0    December  \n1    November  \n2     January  \n3    December  \n4        July  \n5   September  \n6    February  \n7         May  \n8    December  \n9        July  \n10     August  \n11     August  \n12    January  \n13    January  \n14    January  \n15   December  \n16      April  ",
      "text/html": "<div>\n<style scoped>\n    .dataframe tbody tr th:only-of-type {\n        vertical-align: middle;\n    }\n\n    .dataframe tbody tr th {\n        vertical-align: top;\n    }\n\n    .dataframe thead th {\n        text-align: right;\n    }\n</style>\n<table border=\"1\" class=\"dataframe\">\n  <thead>\n    <tr style=\"text-align: right;\">\n      <th></th>\n      <th>Country</th>\n      <th>Genre</th>\n      <th>InvoiceDate</th>\n      <th>Total</th>\n      <th>avg_inv</th>\n      <th>Month</th>\n    </tr>\n  </thead>\n  <tbody>\n    <tr>\n      <th>0</th>\n      <td>Brazil</td>\n      <td>Pop</td>\n      <td>2012-12-07</td>\n      <td>83.16</td>\n      <td>13.860000</td>\n      <td>December</td>\n    </tr>\n    <tr>\n      <th>1</th>\n      <td>USA</td>\n      <td>Rock And Roll</td>\n      <td>2012-11-06</td>\n      <td>83.16</td>\n      <td>13.860000</td>\n      <td>November</td>\n    </tr>\n    <tr>\n      <th>2</th>\n      <td>Canada</td>\n      <td>Bossa Nova</td>\n      <td>2013-01-30</td>\n      <td>86.13</td>\n      <td>5.742000</td>\n      <td>January</td>\n    </tr>\n    <tr>\n      <th>3</th>\n      <td>USA</td>\n      <td>Easy Listening</td>\n      <td>2011-12-01</td>\n      <td>138.60</td>\n      <td>13.860000</td>\n      <td>December</td>\n    </tr>\n    <tr>\n      <th>4</th>\n      <td>Czech Republic</td>\n      <td>Electronica/Dance</td>\n      <td>2009-07-11</td>\n      <td>149.62</td>\n      <td>12.468333</td>\n      <td>July</td>\n    </tr>\n    <tr>\n      <th>5</th>\n      <td>USA</td>\n      <td>Heavy Metal</td>\n      <td>2010-09-23</td>\n      <td>161.37</td>\n      <td>13.447500</td>\n      <td>September</td>\n    </tr>\n    <tr>\n      <th>6</th>\n      <td>Portugal</td>\n      <td>World</td>\n      <td>2012-02-01</td>\n      <td>166.32</td>\n      <td>13.860000</td>\n      <td>February</td>\n    </tr>\n    <tr>\n      <th>7</th>\n      <td>Canada</td>\n      <td>Hip Hop/Rap</td>\n      <td>2012-05-04</td>\n      <td>166.41</td>\n      <td>9.788824</td>\n      <td>May</td>\n    </tr>\n    <tr>\n      <th>8</th>\n      <td>Brazil</td>\n      <td>Soundtrack</td>\n      <td>2012-12-07</td>\n      <td>242.55</td>\n      <td>12.127500</td>\n      <td>December</td>\n    </tr>\n    <tr>\n      <th>9</th>\n      <td>India</td>\n      <td>R&amp;B/Soul</td>\n      <td>2009-07-08</td>\n      <td>272.25</td>\n      <td>9.387931</td>\n      <td>July</td>\n    </tr>\n    <tr>\n      <th>10</th>\n      <td>USA</td>\n      <td>Reggae</td>\n      <td>2011-08-30</td>\n      <td>332.64</td>\n      <td>11.088000</td>\n      <td>August</td>\n    </tr>\n    <tr>\n      <th>11</th>\n      <td>Germany</td>\n      <td>Blues</td>\n      <td>2011-08-21</td>\n      <td>429.66</td>\n      <td>7.043607</td>\n      <td>August</td>\n    </tr>\n    <tr>\n      <th>12</th>\n      <td>Canada</td>\n      <td>Jazz</td>\n      <td>2009-01-06</td>\n      <td>746.46</td>\n      <td>9.330750</td>\n      <td>January</td>\n    </tr>\n    <tr>\n      <th>13</th>\n      <td>USA</td>\n      <td>Alternative &amp; Punk</td>\n      <td>2009-01-11</td>\n      <td>1961.66</td>\n      <td>8.039590</td>\n      <td>January</td>\n    </tr>\n    <tr>\n      <th>14</th>\n      <td>Canada</td>\n      <td>Metal</td>\n      <td>2009-01-06</td>\n      <td>2093.13</td>\n      <td>7.928523</td>\n      <td>January</td>\n    </tr>\n    <tr>\n      <th>15</th>\n      <td>Sweden</td>\n      <td>Latin</td>\n      <td>2012-12-02</td>\n      <td>3456.69</td>\n      <td>8.978416</td>\n      <td>December</td>\n    </tr>\n    <tr>\n      <th>16</th>\n      <td>Italy</td>\n      <td>Rock</td>\n      <td>2010-04-13</td>\n      <td>7268.46</td>\n      <td>9.402924</td>\n      <td>April</td>\n    </tr>\n  </tbody>\n</table>\n</div>"
     },
     "metadata": {},
     "execution_count": 22
    }
   ],
   "source": [
    "ttl_sales = pd.read_sql_query(\n",
    "    '''\n",
    "    SELECT \n",
    "         inv.BillingCountry AS Country, \n",
    "         genr.Name AS Genre, \n",
    "         inv.InvoiceDate, \n",
    "         SUM(invs.Total) AS Total, \n",
    "         AVG(invs.Total) AS avg_inv\n",
    "    FROM invoices AS invs, \n",
    "         invoice_items AS inv_itm, \n",
    "         tracks AS trk, \n",
    "         genres AS genr, \n",
    "         media_types AS med_typ \n",
    "    WHERE    invs.InvoiceId = inv_itm.InvoiceId \n",
    "         AND inv_itm.TrackId = trk.TrackId \n",
    "         AND trk.GenreId = genr.GenreId \n",
    "         AND trk.MediaTypeId = med_typ.MediaTypeId \n",
    "         AND med_typ.MediaTypeId = 1 \n",
    "    GROUP BY Genre \n",
    "    ORDER BY Total\n",
    "    '''\n",
    "    ,conn, parse_dates='InvoiceDate')\n",
    "\n",
    "ttl_sales['Month'] = ttl_sales[\"InvoiceDate\"].dt.month_name()\n",
    "ttl_sales"
   ]
  },
  {
   "cell_type": "code",
   "execution_count": 11,
   "metadata": {},
   "outputs": [
    {
     "output_type": "execute_result",
     "data": {
      "text/plain": "           Country               Genre InvoiceDate    Total    avg_inv  \\\n0           Brazil                 Pop  2012-12-07    83.16  13.860000   \n1              USA       Rock And Roll  2012-11-06    83.16  13.860000   \n2           Canada          Bossa Nova  2013-01-30    86.13   5.742000   \n3              USA      Easy Listening  2011-12-01   138.60  13.860000   \n4   Czech Republic   Electronica/Dance  2009-07-11   149.62  12.468333   \n5              USA         Heavy Metal  2010-09-23   161.37  13.447500   \n6         Portugal               World  2012-02-01   166.32  13.860000   \n7           Canada         Hip Hop/Rap  2012-05-04   166.41   9.788824   \n8           Brazil          Soundtrack  2012-12-07   242.55  12.127500   \n9            India            R&B/Soul  2009-07-08   272.25   9.387931   \n10             USA              Reggae  2011-08-30   332.64  11.088000   \n11         Germany               Blues  2011-08-21   429.66   7.043607   \n12          Canada                Jazz  2009-01-06   746.46   9.330750   \n13             USA  Alternative & Punk  2009-01-11  1961.66   8.039590   \n14          Canada               Metal  2009-01-06  2093.13   7.928523   \n15          Sweden               Latin  2012-12-02  3456.69   8.978416   \n16           Italy                Rock  2010-04-13  7268.46   9.402924   \n\n        Month month_year  \n0    December    2012-12  \n1    November    2012-11  \n2     January    2013-01  \n3    December    2011-12  \n4        July    2009-07  \n5   September    2010-09  \n6    February    2012-02  \n7         May    2012-05  \n8    December    2012-12  \n9        July    2009-07  \n10     August    2011-08  \n11     August    2011-08  \n12    January    2009-01  \n13    January    2009-01  \n14    January    2009-01  \n15   December    2012-12  \n16      April    2010-04  ",
      "text/html": "<div>\n<style scoped>\n    .dataframe tbody tr th:only-of-type {\n        vertical-align: middle;\n    }\n\n    .dataframe tbody tr th {\n        vertical-align: top;\n    }\n\n    .dataframe thead th {\n        text-align: right;\n    }\n</style>\n<table border=\"1\" class=\"dataframe\">\n  <thead>\n    <tr style=\"text-align: right;\">\n      <th></th>\n      <th>Country</th>\n      <th>Genre</th>\n      <th>InvoiceDate</th>\n      <th>Total</th>\n      <th>avg_inv</th>\n      <th>Month</th>\n      <th>month_year</th>\n    </tr>\n  </thead>\n  <tbody>\n    <tr>\n      <th>0</th>\n      <td>Brazil</td>\n      <td>Pop</td>\n      <td>2012-12-07</td>\n      <td>83.16</td>\n      <td>13.860000</td>\n      <td>December</td>\n      <td>2012-12</td>\n    </tr>\n    <tr>\n      <th>1</th>\n      <td>USA</td>\n      <td>Rock And Roll</td>\n      <td>2012-11-06</td>\n      <td>83.16</td>\n      <td>13.860000</td>\n      <td>November</td>\n      <td>2012-11</td>\n    </tr>\n    <tr>\n      <th>2</th>\n      <td>Canada</td>\n      <td>Bossa Nova</td>\n      <td>2013-01-30</td>\n      <td>86.13</td>\n      <td>5.742000</td>\n      <td>January</td>\n      <td>2013-01</td>\n    </tr>\n    <tr>\n      <th>3</th>\n      <td>USA</td>\n      <td>Easy Listening</td>\n      <td>2011-12-01</td>\n      <td>138.60</td>\n      <td>13.860000</td>\n      <td>December</td>\n      <td>2011-12</td>\n    </tr>\n    <tr>\n      <th>4</th>\n      <td>Czech Republic</td>\n      <td>Electronica/Dance</td>\n      <td>2009-07-11</td>\n      <td>149.62</td>\n      <td>12.468333</td>\n      <td>July</td>\n      <td>2009-07</td>\n    </tr>\n    <tr>\n      <th>5</th>\n      <td>USA</td>\n      <td>Heavy Metal</td>\n      <td>2010-09-23</td>\n      <td>161.37</td>\n      <td>13.447500</td>\n      <td>September</td>\n      <td>2010-09</td>\n    </tr>\n    <tr>\n      <th>6</th>\n      <td>Portugal</td>\n      <td>World</td>\n      <td>2012-02-01</td>\n      <td>166.32</td>\n      <td>13.860000</td>\n      <td>February</td>\n      <td>2012-02</td>\n    </tr>\n    <tr>\n      <th>7</th>\n      <td>Canada</td>\n      <td>Hip Hop/Rap</td>\n      <td>2012-05-04</td>\n      <td>166.41</td>\n      <td>9.788824</td>\n      <td>May</td>\n      <td>2012-05</td>\n    </tr>\n    <tr>\n      <th>8</th>\n      <td>Brazil</td>\n      <td>Soundtrack</td>\n      <td>2012-12-07</td>\n      <td>242.55</td>\n      <td>12.127500</td>\n      <td>December</td>\n      <td>2012-12</td>\n    </tr>\n    <tr>\n      <th>9</th>\n      <td>India</td>\n      <td>R&amp;B/Soul</td>\n      <td>2009-07-08</td>\n      <td>272.25</td>\n      <td>9.387931</td>\n      <td>July</td>\n      <td>2009-07</td>\n    </tr>\n    <tr>\n      <th>10</th>\n      <td>USA</td>\n      <td>Reggae</td>\n      <td>2011-08-30</td>\n      <td>332.64</td>\n      <td>11.088000</td>\n      <td>August</td>\n      <td>2011-08</td>\n    </tr>\n    <tr>\n      <th>11</th>\n      <td>Germany</td>\n      <td>Blues</td>\n      <td>2011-08-21</td>\n      <td>429.66</td>\n      <td>7.043607</td>\n      <td>August</td>\n      <td>2011-08</td>\n    </tr>\n    <tr>\n      <th>12</th>\n      <td>Canada</td>\n      <td>Jazz</td>\n      <td>2009-01-06</td>\n      <td>746.46</td>\n      <td>9.330750</td>\n      <td>January</td>\n      <td>2009-01</td>\n    </tr>\n    <tr>\n      <th>13</th>\n      <td>USA</td>\n      <td>Alternative &amp; Punk</td>\n      <td>2009-01-11</td>\n      <td>1961.66</td>\n      <td>8.039590</td>\n      <td>January</td>\n      <td>2009-01</td>\n    </tr>\n    <tr>\n      <th>14</th>\n      <td>Canada</td>\n      <td>Metal</td>\n      <td>2009-01-06</td>\n      <td>2093.13</td>\n      <td>7.928523</td>\n      <td>January</td>\n      <td>2009-01</td>\n    </tr>\n    <tr>\n      <th>15</th>\n      <td>Sweden</td>\n      <td>Latin</td>\n      <td>2012-12-02</td>\n      <td>3456.69</td>\n      <td>8.978416</td>\n      <td>December</td>\n      <td>2012-12</td>\n    </tr>\n    <tr>\n      <th>16</th>\n      <td>Italy</td>\n      <td>Rock</td>\n      <td>2010-04-13</td>\n      <td>7268.46</td>\n      <td>9.402924</td>\n      <td>April</td>\n      <td>2010-04</td>\n    </tr>\n  </tbody>\n</table>\n</div>"
     },
     "metadata": {},
     "execution_count": 11
    }
   ],
   "source": [
    "ttl_sales['month_year'] = pd.to_datetime(ttl_sales['InvoiceDate']).dt.to_period('M')\n",
    "ttl_sales"
   ]
  },
  {
   "cell_type": "code",
   "execution_count": 64,
   "metadata": {},
   "outputs": [
    {
     "output_type": "execute_result",
     "data": {
      "text/plain": "          Country             Genre InvoiceDate   Total      Month month_year\n0           Chile   Science Fiction  2010-01-13  102.41    January    01-2010\n1             USA            Comedy  2012-09-27  112.30  September    09-2012\n2             USA  Sci Fi & Fantasy  2012-08-05  198.87     August    08-2012\n3  Czech Republic             Drama  2013-11-13  544.61   November    11-2013\n4          Sweden          TV Shows  2010-01-10  817.71    January    01-2010",
      "text/html": "<div>\n<style scoped>\n    .dataframe tbody tr th:only-of-type {\n        vertical-align: middle;\n    }\n\n    .dataframe tbody tr th {\n        vertical-align: top;\n    }\n\n    .dataframe thead th {\n        text-align: right;\n    }\n</style>\n<table border=\"1\" class=\"dataframe\">\n  <thead>\n    <tr style=\"text-align: right;\">\n      <th></th>\n      <th>Country</th>\n      <th>Genre</th>\n      <th>InvoiceDate</th>\n      <th>Total</th>\n      <th>Month</th>\n      <th>month_year</th>\n    </tr>\n  </thead>\n  <tbody>\n    <tr>\n      <th>0</th>\n      <td>Chile</td>\n      <td>Science Fiction</td>\n      <td>2010-01-13</td>\n      <td>102.41</td>\n      <td>January</td>\n      <td>01-2010</td>\n    </tr>\n    <tr>\n      <th>1</th>\n      <td>USA</td>\n      <td>Comedy</td>\n      <td>2012-09-27</td>\n      <td>112.30</td>\n      <td>September</td>\n      <td>09-2012</td>\n    </tr>\n    <tr>\n      <th>2</th>\n      <td>USA</td>\n      <td>Sci Fi &amp; Fantasy</td>\n      <td>2012-08-05</td>\n      <td>198.87</td>\n      <td>August</td>\n      <td>08-2012</td>\n    </tr>\n    <tr>\n      <th>3</th>\n      <td>Czech Republic</td>\n      <td>Drama</td>\n      <td>2013-11-13</td>\n      <td>544.61</td>\n      <td>November</td>\n      <td>11-2013</td>\n    </tr>\n    <tr>\n      <th>4</th>\n      <td>Sweden</td>\n      <td>TV Shows</td>\n      <td>2010-01-10</td>\n      <td>817.71</td>\n      <td>January</td>\n      <td>01-2010</td>\n    </tr>\n  </tbody>\n</table>\n</div>"
     },
     "metadata": {},
     "execution_count": 64
    }
   ],
   "source": [
    "ttl_sales['month_year'] = ttl_sales['InvoiceDate'].dt.strftime('%m-%Y')\n",
    "ttl_sales"
   ]
  },
  {
   "cell_type": "code",
   "execution_count": 65,
   "metadata": {},
   "outputs": [
    {
     "output_type": "execute_result",
     "data": {
      "text/plain": "   Country               Genre                     Media_Nm    Total\n0      USA                Rock              MPEG audio file  1526.14\n1      USA               Latin              MPEG audio file   754.67\n2      USA               Metal              MPEG audio file   554.45\n3      USA  Alternative & Punk              MPEG audio file   415.92\n4      USA                Jazz              MPEG audio file   202.95\n5      USA            TV Shows  Protected MPEG-4 video file   191.70\n6      USA               Drama  Protected MPEG-4 video file   143.16\n7      USA               Blues              MPEG audio file   126.72\n8      USA              Comedy  Protected MPEG-4 video file    90.44\n9      USA           Classical     Protected AAC audio file    87.20\n10     USA         Alternative     Protected AAC audio file    79.30\n11     USA            R&B/Soul     Protected AAC audio file    75.28\n12     USA              Reggae              MPEG audio file    73.26\n13     USA    Sci Fi & Fantasy  Protected MPEG-4 video file    71.62\n14     USA         Heavy Metal              MPEG audio file    50.49\n15     USA          Soundtrack              MPEG audio file    45.54\n16     USA          Bossa Nova              MPEG audio file    43.56\n17     USA       Rock And Roll              MPEG audio file    41.58\n18     USA      Easy Listening              MPEG audio file    41.58\n19     USA                 Pop     Protected AAC audio file    33.66\n20     USA     Science Fiction  Protected MPEG-4 video file    10.91\n21     USA         Hip Hop/Rap              MPEG audio file     6.93",
      "text/html": "<div>\n<style scoped>\n    .dataframe tbody tr th:only-of-type {\n        vertical-align: middle;\n    }\n\n    .dataframe tbody tr th {\n        vertical-align: top;\n    }\n\n    .dataframe thead th {\n        text-align: right;\n    }\n</style>\n<table border=\"1\" class=\"dataframe\">\n  <thead>\n    <tr style=\"text-align: right;\">\n      <th></th>\n      <th>Country</th>\n      <th>Genre</th>\n      <th>Media_Nm</th>\n      <th>Total</th>\n    </tr>\n  </thead>\n  <tbody>\n    <tr>\n      <th>0</th>\n      <td>USA</td>\n      <td>Rock</td>\n      <td>MPEG audio file</td>\n      <td>1526.14</td>\n    </tr>\n    <tr>\n      <th>1</th>\n      <td>USA</td>\n      <td>Latin</td>\n      <td>MPEG audio file</td>\n      <td>754.67</td>\n    </tr>\n    <tr>\n      <th>2</th>\n      <td>USA</td>\n      <td>Metal</td>\n      <td>MPEG audio file</td>\n      <td>554.45</td>\n    </tr>\n    <tr>\n      <th>3</th>\n      <td>USA</td>\n      <td>Alternative &amp; Punk</td>\n      <td>MPEG audio file</td>\n      <td>415.92</td>\n    </tr>\n    <tr>\n      <th>4</th>\n      <td>USA</td>\n      <td>Jazz</td>\n      <td>MPEG audio file</td>\n      <td>202.95</td>\n    </tr>\n    <tr>\n      <th>5</th>\n      <td>USA</td>\n      <td>TV Shows</td>\n      <td>Protected MPEG-4 video file</td>\n      <td>191.70</td>\n    </tr>\n    <tr>\n      <th>6</th>\n      <td>USA</td>\n      <td>Drama</td>\n      <td>Protected MPEG-4 video file</td>\n      <td>143.16</td>\n    </tr>\n    <tr>\n      <th>7</th>\n      <td>USA</td>\n      <td>Blues</td>\n      <td>MPEG audio file</td>\n      <td>126.72</td>\n    </tr>\n    <tr>\n      <th>8</th>\n      <td>USA</td>\n      <td>Comedy</td>\n      <td>Protected MPEG-4 video file</td>\n      <td>90.44</td>\n    </tr>\n    <tr>\n      <th>9</th>\n      <td>USA</td>\n      <td>Classical</td>\n      <td>Protected AAC audio file</td>\n      <td>87.20</td>\n    </tr>\n    <tr>\n      <th>10</th>\n      <td>USA</td>\n      <td>Alternative</td>\n      <td>Protected AAC audio file</td>\n      <td>79.30</td>\n    </tr>\n    <tr>\n      <th>11</th>\n      <td>USA</td>\n      <td>R&amp;B/Soul</td>\n      <td>Protected AAC audio file</td>\n      <td>75.28</td>\n    </tr>\n    <tr>\n      <th>12</th>\n      <td>USA</td>\n      <td>Reggae</td>\n      <td>MPEG audio file</td>\n      <td>73.26</td>\n    </tr>\n    <tr>\n      <th>13</th>\n      <td>USA</td>\n      <td>Sci Fi &amp; Fantasy</td>\n      <td>Protected MPEG-4 video file</td>\n      <td>71.62</td>\n    </tr>\n    <tr>\n      <th>14</th>\n      <td>USA</td>\n      <td>Heavy Metal</td>\n      <td>MPEG audio file</td>\n      <td>50.49</td>\n    </tr>\n    <tr>\n      <th>15</th>\n      <td>USA</td>\n      <td>Soundtrack</td>\n      <td>MPEG audio file</td>\n      <td>45.54</td>\n    </tr>\n    <tr>\n      <th>16</th>\n      <td>USA</td>\n      <td>Bossa Nova</td>\n      <td>MPEG audio file</td>\n      <td>43.56</td>\n    </tr>\n    <tr>\n      <th>17</th>\n      <td>USA</td>\n      <td>Rock And Roll</td>\n      <td>MPEG audio file</td>\n      <td>41.58</td>\n    </tr>\n    <tr>\n      <th>18</th>\n      <td>USA</td>\n      <td>Easy Listening</td>\n      <td>MPEG audio file</td>\n      <td>41.58</td>\n    </tr>\n    <tr>\n      <th>19</th>\n      <td>USA</td>\n      <td>Pop</td>\n      <td>Protected AAC audio file</td>\n      <td>33.66</td>\n    </tr>\n    <tr>\n      <th>20</th>\n      <td>USA</td>\n      <td>Science Fiction</td>\n      <td>Protected MPEG-4 video file</td>\n      <td>10.91</td>\n    </tr>\n    <tr>\n      <th>21</th>\n      <td>USA</td>\n      <td>Hip Hop/Rap</td>\n      <td>MPEG audio file</td>\n      <td>6.93</td>\n    </tr>\n  </tbody>\n</table>\n</div>"
     },
     "metadata": {},
     "execution_count": 65
    }
   ],
   "source": [
    "country_sales = pd.read_sql_query(\n",
    "    '''\n",
    "    SELECT invs.BillingCountry AS Country, \n",
    "           genr.Name AS Genre, \n",
    "           med_typ.Name AS Media_Nm, \n",
    "           sum(invs.Total) AS Total\n",
    "    FROM invoices AS invs, \n",
    "         invoice_items AS invs_itm, \n",
    "         tracks AS trks, \n",
    "         genres AS genr, \n",
    "         media_types AS med_typ \n",
    "    WHERE \n",
    "         invs.InvoiceId = invs_itm.InvoiceId \n",
    "     AND invs_itm.TrackId = trks.TrackId \n",
    "     AND trks.GenreId = genr.GenreId \n",
    "     AND trks.MediaTypeId = med_typ.MediaTypeId \n",
    "     AND invs.BillingCountry = 'USA'\n",
    "     GROUP BY Genre \n",
    "     ORDER BY Total DESC\n",
    "    '''\n",
    "    , conn)\n",
    "country_sales"
   ]
  },
  {
   "cell_type": "code",
   "execution_count": 25,
   "metadata": {},
   "outputs": [
    {
     "output_type": "execute_result",
     "data": {
      "text/plain": "Country       object\nGenre         object\nMedia_Nm    category\nTotal        float64\ndtype: object"
     },
     "metadata": {},
     "execution_count": 25
    }
   ],
   "source": [
    "country_sales['Media_Nm'] = country_sales['Media_Nm'].astype('category', errors='raise')\n",
    "country_sales.dtypes"
   ]
  },
  {
   "cell_type": "code",
   "execution_count": 26,
   "metadata": {},
   "outputs": [
    {
     "output_type": "execute_result",
     "data": {
      "text/plain": "  Country               Genre         Media_Nm    Total\n0     USA                Rock  MPEG audio file  1526.14\n1     USA               Latin  MPEG audio file   754.67\n2     USA               Metal  MPEG audio file   554.45\n3     USA  Alternative & Punk  MPEG audio file   415.92\n4     USA                Jazz  MPEG audio file   202.95",
      "text/html": "<div>\n<style scoped>\n    .dataframe tbody tr th:only-of-type {\n        vertical-align: middle;\n    }\n\n    .dataframe tbody tr th {\n        vertical-align: top;\n    }\n\n    .dataframe thead th {\n        text-align: right;\n    }\n</style>\n<table border=\"1\" class=\"dataframe\">\n  <thead>\n    <tr style=\"text-align: right;\">\n      <th></th>\n      <th>Country</th>\n      <th>Genre</th>\n      <th>Media_Nm</th>\n      <th>Total</th>\n    </tr>\n  </thead>\n  <tbody>\n    <tr>\n      <th>0</th>\n      <td>USA</td>\n      <td>Rock</td>\n      <td>MPEG audio file</td>\n      <td>1526.14</td>\n    </tr>\n    <tr>\n      <th>1</th>\n      <td>USA</td>\n      <td>Latin</td>\n      <td>MPEG audio file</td>\n      <td>754.67</td>\n    </tr>\n    <tr>\n      <th>2</th>\n      <td>USA</td>\n      <td>Metal</td>\n      <td>MPEG audio file</td>\n      <td>554.45</td>\n    </tr>\n    <tr>\n      <th>3</th>\n      <td>USA</td>\n      <td>Alternative &amp; Punk</td>\n      <td>MPEG audio file</td>\n      <td>415.92</td>\n    </tr>\n    <tr>\n      <th>4</th>\n      <td>USA</td>\n      <td>Jazz</td>\n      <td>MPEG audio file</td>\n      <td>202.95</td>\n    </tr>\n  </tbody>\n</table>\n</div>"
     },
     "metadata": {},
     "execution_count": 26
    }
   ],
   "source": [
    "country_sales.head()"
   ]
  },
  {
   "cell_type": "code",
   "execution_count": 64,
   "metadata": {},
   "outputs": [
    {
     "output_type": "execute_result",
     "data": {
      "text/plain": "           Country               Genre             Name    Total\n0           Brazil                 Pop  MPEG audio file    83.16\n1              USA       Rock And Roll  MPEG audio file    83.16\n2           Canada          Bossa Nova  MPEG audio file    86.13\n3              USA      Easy Listening  MPEG audio file   138.60\n4   Czech Republic   Electronica/Dance  MPEG audio file   149.62\n5              USA         Heavy Metal  MPEG audio file   161.37\n6         Portugal               World  MPEG audio file   166.32\n7           Canada         Hip Hop/Rap  MPEG audio file   166.41\n8           Brazil          Soundtrack  MPEG audio file   242.55\n9            India            R&B/Soul  MPEG audio file   272.25\n10             USA              Reggae  MPEG audio file   332.64\n11         Germany               Blues  MPEG audio file   429.66\n12          Canada                Jazz  MPEG audio file   746.46\n13             USA  Alternative & Punk  MPEG audio file  1961.66\n14          Canada               Metal  MPEG audio file  2093.13\n15          Sweden               Latin  MPEG audio file  3456.69\n16           Italy                Rock  MPEG audio file  7268.46",
      "text/html": "<div>\n<style scoped>\n    .dataframe tbody tr th:only-of-type {\n        vertical-align: middle;\n    }\n\n    .dataframe tbody tr th {\n        vertical-align: top;\n    }\n\n    .dataframe thead th {\n        text-align: right;\n    }\n</style>\n<table border=\"1\" class=\"dataframe\">\n  <thead>\n    <tr style=\"text-align: right;\">\n      <th></th>\n      <th>Country</th>\n      <th>Genre</th>\n      <th>Name</th>\n      <th>Total</th>\n    </tr>\n  </thead>\n  <tbody>\n    <tr>\n      <th>0</th>\n      <td>Brazil</td>\n      <td>Pop</td>\n      <td>MPEG audio file</td>\n      <td>83.16</td>\n    </tr>\n    <tr>\n      <th>1</th>\n      <td>USA</td>\n      <td>Rock And Roll</td>\n      <td>MPEG audio file</td>\n      <td>83.16</td>\n    </tr>\n    <tr>\n      <th>2</th>\n      <td>Canada</td>\n      <td>Bossa Nova</td>\n      <td>MPEG audio file</td>\n      <td>86.13</td>\n    </tr>\n    <tr>\n      <th>3</th>\n      <td>USA</td>\n      <td>Easy Listening</td>\n      <td>MPEG audio file</td>\n      <td>138.60</td>\n    </tr>\n    <tr>\n      <th>4</th>\n      <td>Czech Republic</td>\n      <td>Electronica/Dance</td>\n      <td>MPEG audio file</td>\n      <td>149.62</td>\n    </tr>\n    <tr>\n      <th>5</th>\n      <td>USA</td>\n      <td>Heavy Metal</td>\n      <td>MPEG audio file</td>\n      <td>161.37</td>\n    </tr>\n    <tr>\n      <th>6</th>\n      <td>Portugal</td>\n      <td>World</td>\n      <td>MPEG audio file</td>\n      <td>166.32</td>\n    </tr>\n    <tr>\n      <th>7</th>\n      <td>Canada</td>\n      <td>Hip Hop/Rap</td>\n      <td>MPEG audio file</td>\n      <td>166.41</td>\n    </tr>\n    <tr>\n      <th>8</th>\n      <td>Brazil</td>\n      <td>Soundtrack</td>\n      <td>MPEG audio file</td>\n      <td>242.55</td>\n    </tr>\n    <tr>\n      <th>9</th>\n      <td>India</td>\n      <td>R&amp;B/Soul</td>\n      <td>MPEG audio file</td>\n      <td>272.25</td>\n    </tr>\n    <tr>\n      <th>10</th>\n      <td>USA</td>\n      <td>Reggae</td>\n      <td>MPEG audio file</td>\n      <td>332.64</td>\n    </tr>\n    <tr>\n      <th>11</th>\n      <td>Germany</td>\n      <td>Blues</td>\n      <td>MPEG audio file</td>\n      <td>429.66</td>\n    </tr>\n    <tr>\n      <th>12</th>\n      <td>Canada</td>\n      <td>Jazz</td>\n      <td>MPEG audio file</td>\n      <td>746.46</td>\n    </tr>\n    <tr>\n      <th>13</th>\n      <td>USA</td>\n      <td>Alternative &amp; Punk</td>\n      <td>MPEG audio file</td>\n      <td>1961.66</td>\n    </tr>\n    <tr>\n      <th>14</th>\n      <td>Canada</td>\n      <td>Metal</td>\n      <td>MPEG audio file</td>\n      <td>2093.13</td>\n    </tr>\n    <tr>\n      <th>15</th>\n      <td>Sweden</td>\n      <td>Latin</td>\n      <td>MPEG audio file</td>\n      <td>3456.69</td>\n    </tr>\n    <tr>\n      <th>16</th>\n      <td>Italy</td>\n      <td>Rock</td>\n      <td>MPEG audio file</td>\n      <td>7268.46</td>\n    </tr>\n  </tbody>\n</table>\n</div>"
     },
     "metadata": {},
     "execution_count": 64
    }
   ],
   "source": [
    "ttl_sales_media = pd.read_sql_query(\n",
    "    '''\n",
    "        SELECT invs.BillingCountry AS Country, genr.Name AS Genre, med_typ.Name, SUM(invs.Total) AS Total \n",
    "        FROM invoices AS invs, invoice_items AS invs_itm, tracks AS trks, genres AS genr, media_types AS med_typ \n",
    "        WHERE     invs.InvoiceId = invs_itm.InvoiceId \n",
    "              AND invs_itm.TrackId = trks.TrackId \n",
    "              AND trks.GenreId = genr.GenreId \n",
    "              AND trks.MediaTypeId = med_typ.MediaTypeId \n",
    "              AND med_typ.MediaTypeId = 1 \n",
    "        GROUP BY Genre \n",
    "        ORDER BY Total\n",
    "    '''\n",
    "    , conn)\n",
    "ttl_sales_media"
   ]
  },
  {
   "cell_type": "code",
   "execution_count": 33,
   "metadata": {},
   "outputs": [
    {
     "output_type": "execute_result",
     "data": {
      "text/plain": "   AlbumId                                  Title  ArtistId\n0        1  For Those About To Rock We Salute You         1\n1        2                      Balls to the Wall         2\n2        3                      Restless and Wild         2\n3        4                      Let There Be Rock         1\n4        5                               Big Ones         3",
      "text/html": "<div>\n<style scoped>\n    .dataframe tbody tr th:only-of-type {\n        vertical-align: middle;\n    }\n\n    .dataframe tbody tr th {\n        vertical-align: top;\n    }\n\n    .dataframe thead th {\n        text-align: right;\n    }\n</style>\n<table border=\"1\" class=\"dataframe\">\n  <thead>\n    <tr style=\"text-align: right;\">\n      <th></th>\n      <th>AlbumId</th>\n      <th>Title</th>\n      <th>ArtistId</th>\n    </tr>\n  </thead>\n  <tbody>\n    <tr>\n      <th>0</th>\n      <td>1</td>\n      <td>For Those About To Rock We Salute You</td>\n      <td>1</td>\n    </tr>\n    <tr>\n      <th>1</th>\n      <td>2</td>\n      <td>Balls to the Wall</td>\n      <td>2</td>\n    </tr>\n    <tr>\n      <th>2</th>\n      <td>3</td>\n      <td>Restless and Wild</td>\n      <td>2</td>\n    </tr>\n    <tr>\n      <th>3</th>\n      <td>4</td>\n      <td>Let There Be Rock</td>\n      <td>1</td>\n    </tr>\n    <tr>\n      <th>4</th>\n      <td>5</td>\n      <td>Big Ones</td>\n      <td>3</td>\n    </tr>\n  </tbody>\n</table>\n</div>"
     },
     "metadata": {},
     "execution_count": 33
    }
   ],
   "source": [
    "album = pd.read_sql_query(\n",
    "    '''\n",
    "    SELECT * FROM albums\n",
    "    '''\n",
    "    , conn)\n",
    "album.head()"
   ]
  },
  {
   "cell_type": "code",
   "execution_count": 66,
   "metadata": {},
   "outputs": [
    {
     "output_type": "execute_result",
     "data": {
      "text/plain": "                                      Album                          Artist  \\\n0                             Greatest Hits                   Lenny Kravitz   \n1                            Lost, Season 2                            Lost   \n2                          Heroes, Season 1                          Heroes   \n3                            Lost, Season 1                            Lost   \n4                            Lost, Season 3                            Lost   \n5            Battlestar Galactica, Season 3            Battlestar Galactica   \n6                            Minha Historia                   Chico Buarque   \n7                      The Office, Season 3                      The Office   \n8                          Ao Vivo [IMPORT]                  Zeca Pagodinho   \n9  Battlestar Galactica (Classic), Season 1  Battlestar Galactica (Classic)   \n\n   TotalSales  \n0      372.51  \n1      290.18  \n2      238.61  \n3      223.65  \n4      211.80  \n5      202.80  \n6      185.13  \n7      170.93  \n8      161.74  \n9      157.10  ",
      "text/html": "<div>\n<style scoped>\n    .dataframe tbody tr th:only-of-type {\n        vertical-align: middle;\n    }\n\n    .dataframe tbody tr th {\n        vertical-align: top;\n    }\n\n    .dataframe thead th {\n        text-align: right;\n    }\n</style>\n<table border=\"1\" class=\"dataframe\">\n  <thead>\n    <tr style=\"text-align: right;\">\n      <th></th>\n      <th>Album</th>\n      <th>Artist</th>\n      <th>TotalSales</th>\n    </tr>\n  </thead>\n  <tbody>\n    <tr>\n      <th>0</th>\n      <td>Greatest Hits</td>\n      <td>Lenny Kravitz</td>\n      <td>372.51</td>\n    </tr>\n    <tr>\n      <th>1</th>\n      <td>Lost, Season 2</td>\n      <td>Lost</td>\n      <td>290.18</td>\n    </tr>\n    <tr>\n      <th>2</th>\n      <td>Heroes, Season 1</td>\n      <td>Heroes</td>\n      <td>238.61</td>\n    </tr>\n    <tr>\n      <th>3</th>\n      <td>Lost, Season 1</td>\n      <td>Lost</td>\n      <td>223.65</td>\n    </tr>\n    <tr>\n      <th>4</th>\n      <td>Lost, Season 3</td>\n      <td>Lost</td>\n      <td>211.80</td>\n    </tr>\n    <tr>\n      <th>5</th>\n      <td>Battlestar Galactica, Season 3</td>\n      <td>Battlestar Galactica</td>\n      <td>202.80</td>\n    </tr>\n    <tr>\n      <th>6</th>\n      <td>Minha Historia</td>\n      <td>Chico Buarque</td>\n      <td>185.13</td>\n    </tr>\n    <tr>\n      <th>7</th>\n      <td>The Office, Season 3</td>\n      <td>The Office</td>\n      <td>170.93</td>\n    </tr>\n    <tr>\n      <th>8</th>\n      <td>Ao Vivo [IMPORT]</td>\n      <td>Zeca Pagodinho</td>\n      <td>161.74</td>\n    </tr>\n    <tr>\n      <th>9</th>\n      <td>Battlestar Galactica (Classic), Season 1</td>\n      <td>Battlestar Galactica (Classic)</td>\n      <td>157.10</td>\n    </tr>\n  </tbody>\n</table>\n</div>"
     },
     "metadata": {},
     "execution_count": 66
    }
   ],
   "source": [
    "total_sls = pd.read_sql_query(\n",
    "    '''\n",
    "    SELECT \n",
    "        albm.Title AS Album, \n",
    "        art.Name AS Artist, \n",
    "        sum(inv.Total) AS TotalSales\n",
    "    FROM\n",
    "        invoices AS inv, \n",
    "        invoice_items AS inv_itm, \n",
    "        tracks AS trk, \n",
    "        albums AS albm, \n",
    "        artists AS art \n",
    "     WHERE \n",
    "            inv.InvoiceId = inv_itm.InvoiceId \n",
    "        AND inv_itm.TrackId = trk.TrackId \n",
    "        AND trk.AlbumId = albm.AlbumId \n",
    "        AND albm.ArtistId = art.ArtistId \n",
    "     GROUP BY albm.Title\n",
    "     ORDER BY TotalSales DESC\n",
    "     '''\n",
    "     , conn)\n",
    "total_sls.head(10)"
   ]
  },
  {
   "cell_type": "code",
   "execution_count": null,
   "metadata": {},
   "outputs": [],
   "source": [
    "ttl_sales = pd.read_sql_query(\"\")\n",
    "ttl_sales.head()"
   ]
  },
  {
   "cell_type": "code",
   "execution_count": 67,
   "metadata": {},
   "outputs": [
    {
     "output_type": "execute_result",
     "data": {
      "text/plain": "          FullName  TotalSales   Period\n0     Jane Peacock        0.99  2009-01\n1     Jane Peacock        1.98  2009-02\n2     Jane Peacock        3.96  2009-02\n3     Jane Peacock        5.94  2009-02\n4     Jane Peacock        8.91  2009-02\n..             ...         ...      ...\n398  Steve Johnson        0.99  2013-10\n399  Steve Johnson        5.94  2013-11\n400  Steve Johnson       25.86  2013-11\n401  Steve Johnson        1.98  2013-12\n402  Steve Johnson        3.96  2013-12\n\n[403 rows x 3 columns]",
      "text/html": "<div>\n<style scoped>\n    .dataframe tbody tr th:only-of-type {\n        vertical-align: middle;\n    }\n\n    .dataframe tbody tr th {\n        vertical-align: top;\n    }\n\n    .dataframe thead th {\n        text-align: right;\n    }\n</style>\n<table border=\"1\" class=\"dataframe\">\n  <thead>\n    <tr style=\"text-align: right;\">\n      <th></th>\n      <th>FullName</th>\n      <th>TotalSales</th>\n      <th>Period</th>\n    </tr>\n  </thead>\n  <tbody>\n    <tr>\n      <th>0</th>\n      <td>Jane Peacock</td>\n      <td>0.99</td>\n      <td>2009-01</td>\n    </tr>\n    <tr>\n      <th>1</th>\n      <td>Jane Peacock</td>\n      <td>1.98</td>\n      <td>2009-02</td>\n    </tr>\n    <tr>\n      <th>2</th>\n      <td>Jane Peacock</td>\n      <td>3.96</td>\n      <td>2009-02</td>\n    </tr>\n    <tr>\n      <th>3</th>\n      <td>Jane Peacock</td>\n      <td>5.94</td>\n      <td>2009-02</td>\n    </tr>\n    <tr>\n      <th>4</th>\n      <td>Jane Peacock</td>\n      <td>8.91</td>\n      <td>2009-02</td>\n    </tr>\n    <tr>\n      <th>...</th>\n      <td>...</td>\n      <td>...</td>\n      <td>...</td>\n    </tr>\n    <tr>\n      <th>398</th>\n      <td>Steve Johnson</td>\n      <td>0.99</td>\n      <td>2013-10</td>\n    </tr>\n    <tr>\n      <th>399</th>\n      <td>Steve Johnson</td>\n      <td>5.94</td>\n      <td>2013-11</td>\n    </tr>\n    <tr>\n      <th>400</th>\n      <td>Steve Johnson</td>\n      <td>25.86</td>\n      <td>2013-11</td>\n    </tr>\n    <tr>\n      <th>401</th>\n      <td>Steve Johnson</td>\n      <td>1.98</td>\n      <td>2013-12</td>\n    </tr>\n    <tr>\n      <th>402</th>\n      <td>Steve Johnson</td>\n      <td>3.96</td>\n      <td>2013-12</td>\n    </tr>\n  </tbody>\n</table>\n<p>403 rows × 3 columns</p>\n</div>"
     },
     "metadata": {},
     "execution_count": 67
    }
   ],
   "source": [
    "emp_sales = pd.read_sql_query(\n",
    "    '''\n",
    "    SELECT \n",
    "            (empl.FirstName||' '||empl.LastName) AS FullName, \n",
    "            sum(invs.Total) AS TotalSales,\n",
    "            invs.InvoiceDate AS Period \n",
    "    FROM \n",
    "            employees AS empl, \n",
    "            customers AS cust, \n",
    "            invoices AS invs \n",
    "    WHERE \n",
    "                empl.EmployeeId = cust.SupportRepId \n",
    "            AND cust.CustomerId = invs.CustomerId \n",
    "            AND empl.Title = 'Sales Support Agent' \n",
    "    GROUP BY FullName, invs.InvoiceDate\n",
    "    '''\n",
    "    , conn, parse_dates='Period')\n",
    "\n",
    "emp_sales['Period'] = pd.to_datetime(emp_sales['Period']).dt.to_period('M')                         \n",
    "emp_sales"
   ]
  },
  {
   "cell_type": "code",
   "execution_count": 56,
   "metadata": {},
   "outputs": [
    {
     "output_type": "execute_result",
     "data": {
      "text/plain": "Period\n2009-01    35.64\n2009-02    37.62\n2009-03    37.62\n2009-04    37.62\n2009-05    37.62\nFreq: M, Name: TotalSales, dtype: float64"
     },
     "metadata": {},
     "execution_count": 56
    }
   ],
   "source": [
    "empl_sales_nm = empl_sales.pivot_table(\n",
    "    index= \"Period\",\n",
    "    values= \"TotalSales\",\n",
    "    aggfunc='sum'\n",
    ").sort_values(by=\"Period\", ascending=True)\n",
    "\n",
    "#emp_sales_nm.head()\n",
    "empl_sales_nm['TotalSales'].fillna(0).head()\n"
   ]
  },
  {
   "cell_type": "code",
   "execution_count": 69,
   "metadata": {},
   "outputs": [
    {
     "output_type": "execute_result",
     "data": {
      "text/plain": "FullName  Jane Peacock  Margaret Park  Steve Johnson\nPeriod                                              \n2009-01           0.99          23.76          10.89\n2009-02          20.79           2.97          13.86\n2009-03           1.98          13.86          21.78\n2009-04          18.81          16.83           1.98\n2009-05          10.89           1.98          24.75",
      "text/html": "<div>\n<style scoped>\n    .dataframe tbody tr th:only-of-type {\n        vertical-align: middle;\n    }\n\n    .dataframe tbody tr th {\n        vertical-align: top;\n    }\n\n    .dataframe thead th {\n        text-align: right;\n    }\n</style>\n<table border=\"1\" class=\"dataframe\">\n  <thead>\n    <tr style=\"text-align: right;\">\n      <th>FullName</th>\n      <th>Jane Peacock</th>\n      <th>Margaret Park</th>\n      <th>Steve Johnson</th>\n    </tr>\n    <tr>\n      <th>Period</th>\n      <th></th>\n      <th></th>\n      <th></th>\n    </tr>\n  </thead>\n  <tbody>\n    <tr>\n      <th>2009-01</th>\n      <td>0.99</td>\n      <td>23.76</td>\n      <td>10.89</td>\n    </tr>\n    <tr>\n      <th>2009-02</th>\n      <td>20.79</td>\n      <td>2.97</td>\n      <td>13.86</td>\n    </tr>\n    <tr>\n      <th>2009-03</th>\n      <td>1.98</td>\n      <td>13.86</td>\n      <td>21.78</td>\n    </tr>\n    <tr>\n      <th>2009-04</th>\n      <td>18.81</td>\n      <td>16.83</td>\n      <td>1.98</td>\n    </tr>\n    <tr>\n      <th>2009-05</th>\n      <td>10.89</td>\n      <td>1.98</td>\n      <td>24.75</td>\n    </tr>\n  </tbody>\n</table>\n</div>"
     },
     "metadata": {},
     "execution_count": 69
    }
   ],
   "source": [
    "emp_total_sales = pd.crosstab(\n",
    "    index=emp_sales['Period'], \n",
    "    columns=emp_sales['FullName'],\n",
    "    values=emp_sales['TotalSales'],\n",
    "    aggfunc = 'sum')\n",
    "\n",
    "emp_total_sales.head()"
   ]
  },
  {
   "cell_type": "code",
   "execution_count": 52,
   "metadata": {},
   "outputs": [
    {
     "output_type": "execute_result",
     "data": {
      "text/plain": "<bound method DataFrame.melt of FullName  Jane Peacock  Margaret Park  Steve Johnson\nPeriod                                              \n2009-01           0.99          23.76          10.89\n2009-02          20.79           2.97          13.86\n2009-03           1.98          13.86          21.78\n2009-04          18.81          16.83           1.98\n2009-05          10.89           1.98          24.75\n2009-06           1.98          10.89          24.75\n2009-07          22.77           3.96          10.89\n2009-08          30.69           6.93            NaN\n2009-09           0.99          28.71           7.92\n2009-10            NaN           7.92          29.70\n2009-11           3.96          31.68           1.98\n2009-12           9.90          11.88          15.84\n2010-01           3.96            NaN          48.66\n2010-02          31.77           5.94           8.91\n2010-03          34.72           9.90            NaN\n2010-04          26.73           1.98           8.91\n2010-05           1.98          21.78          13.86\n2010-06           5.94          22.77           8.91\n2010-07          21.78          15.84            NaN\n2010-08          17.82           7.92          11.88\n2010-09           7.92          17.82          10.89\n2010-10          11.88           9.90          15.84\n2010-11          30.69           2.97           3.96\n2010-12          26.73           5.94           4.95\n2011-01           1.98           8.91          26.73\n2011-02          13.86          15.84           7.92\n2011-03          19.80          13.86           3.96\n2011-04          36.77           6.93           7.92\n2011-05           0.99          16.83          24.80\n2011-06          11.94          20.83          17.85\n2011-07          25.74           9.90           1.98\n2011-08          10.89           0.99          25.74\n2011-09          21.78           4.95          10.89\n2011-10          28.71           5.94           2.97\n2011-11           2.97          10.89           9.90\n2011-12           8.91           9.90          18.81\n2012-01           9.90          16.83          10.89\n2012-02           3.96          24.75           8.91\n2012-03          10.89          18.81           7.92\n2012-04           5.94           1.98          29.70\n2012-05          31.68           3.96           1.98\n2012-06          10.89          22.77           3.96\n2012-07           1.98           1.98          35.66\n2012-08           5.94          39.70           1.98\n2012-09           9.95          24.82          11.94\n2012-10          24.78          10.91           6.93\n2012-11           7.92          24.75           4.95\n2012-12          22.77           5.94           8.91\n2013-01          19.80          15.84           1.98\n2013-02          15.84          11.88            NaN\n2013-03           5.94          13.86          17.82\n2013-04            NaN          33.66            NaN\n2013-05           7.92           8.91          20.79\n2013-06          34.65            NaN           2.97\n2013-07           4.95          18.81          13.86\n2013-08          11.88          13.86          11.88\n2013-09          10.89          10.89          15.84\n2013-10          14.85          19.80           2.97\n2013-11           7.92           9.90          31.80\n2013-12          21.79          10.89           5.94>"
     },
     "metadata": {},
     "execution_count": 52
    }
   ],
   "source": [
    "emp_total_sales.melt"
   ]
  },
  {
   "cell_type": "code",
   "execution_count": 60,
   "metadata": {},
   "outputs": [
    {
     "output_type": "execute_result",
     "data": {
      "text/plain": "       FullName  TotalSales         Country\n0  Jane Peacock       41.62         Finland\n1  Jane Peacock       45.62         Hungary\n2  Jane Peacock       45.62         Ireland\n3  Jane Peacock       75.26           India\n4  Jane Peacock      112.86  United Kingdom",
      "text/html": "<div>\n<style scoped>\n    .dataframe tbody tr th:only-of-type {\n        vertical-align: middle;\n    }\n\n    .dataframe tbody tr th {\n        vertical-align: top;\n    }\n\n    .dataframe thead th {\n        text-align: right;\n    }\n</style>\n<table border=\"1\" class=\"dataframe\">\n  <thead>\n    <tr style=\"text-align: right;\">\n      <th></th>\n      <th>FullName</th>\n      <th>TotalSales</th>\n      <th>Country</th>\n    </tr>\n  </thead>\n  <tbody>\n    <tr>\n      <th>0</th>\n      <td>Jane Peacock</td>\n      <td>41.62</td>\n      <td>Finland</td>\n    </tr>\n    <tr>\n      <th>1</th>\n      <td>Jane Peacock</td>\n      <td>45.62</td>\n      <td>Hungary</td>\n    </tr>\n    <tr>\n      <th>2</th>\n      <td>Jane Peacock</td>\n      <td>45.62</td>\n      <td>Ireland</td>\n    </tr>\n    <tr>\n      <th>3</th>\n      <td>Jane Peacock</td>\n      <td>75.26</td>\n      <td>India</td>\n    </tr>\n    <tr>\n      <th>4</th>\n      <td>Jane Peacock</td>\n      <td>112.86</td>\n      <td>United Kingdom</td>\n    </tr>\n  </tbody>\n</table>\n</div>"
     },
     "metadata": {},
     "execution_count": 60
    }
   ],
   "source": [
    "dt_sales = pd.read_sql_query(\n",
    "    '''\n",
    "    SELECT \n",
    "        (empl.FirstName||' '||empl.LastName) AS FullName, \n",
    "        sum(invs.Total) AS TotalSales, \n",
    "        invs.BillingCountry AS Country \n",
    "    FROM \n",
    "        employees AS empl, \n",
    "        customers AS cust, \n",
    "        invoices AS invs \n",
    "    WHERE \n",
    "            empl.EmployeeId = +cust.SupportRepId \n",
    "        AND cust.CustomerId = +invs.CustomerId \n",
    "        AND empl.Title = 'Sales Support Agent' \n",
    "    GROUP BY BillingCountry \n",
    "    ORDER BY FullName, TotalSales\n",
    "    '''\n",
    "    , conn)\n",
    "\n",
    "dt_sales.head()"
   ]
  },
  {
   "cell_type": "code",
   "execution_count": 61,
   "metadata": {},
   "outputs": [
    {
     "output_type": "execute_result",
     "data": {
      "text/plain": "0  FullName        Jane Peacock\n   TotalSales             41.62\n   Country              Finland\n1  FullName        Jane Peacock\n   TotalSales             45.62\n   Country              Hungary\n2  FullName        Jane Peacock\n   TotalSales             45.62\n   Country              Ireland\n3  FullName        Jane Peacock\n   TotalSales             75.26\n   Country                India\n4  FullName        Jane Peacock\n   TotalSales            112.86\n   Country       United Kingdom\n5  FullName        Jane Peacock\n   TotalSales            156.48\n   Country              Germany\n6  FullName        Jane Peacock\n   TotalSales             190.1\ndtype: object"
     },
     "metadata": {},
     "execution_count": 61
    }
   ],
   "source": [
    "dt_sales.stack().head(20)"
   ]
  },
  {
   "cell_type": "code",
   "execution_count": null,
   "metadata": {},
   "outputs": [],
   "source": []
  }
 ],
 "metadata": {
  "language_info": {
   "codemirror_mode": {
    "name": "ipython",
    "version": 3
   },
   "file_extension": ".py",
   "mimetype": "text/x-python",
   "name": "python",
   "nbconvert_exporter": "python",
   "pygments_lexer": "ipython3",
   "version": "3.8.5-final"
  },
  "orig_nbformat": 2,
  "kernelspec": {
   "name": "python_defaultSpec_1597160565196",
   "display_name": "Python 3.8.5 64-bit ('api_capstone': conda)"
  }
 },
 "nbformat": 4,
 "nbformat_minor": 2
}